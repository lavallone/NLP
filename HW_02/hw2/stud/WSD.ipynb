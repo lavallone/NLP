{
  "cells": [
    {
      "attachments": {},
      "cell_type": "markdown",
      "metadata": {
        "id": "S7pAk0A9TK70"
      },
      "source": [
        "# **Homework 2 - Word Sense Disambiguation** "
      ]
    },
    {
      "attachments": {},
      "cell_type": "markdown",
      "metadata": {
        "id": "HO8uLXP5Wf4O"
      },
      "source": [
        "## Imports"
      ]
    },
    {
      "cell_type": "code",
      "execution_count": 97,
      "metadata": {
        "id": "LKij-njNdvYg"
      },
      "outputs": [
        {
          "name": "stdout",
          "output_type": "stream",
          "text": [
            "The autoreload extension is already loaded. To reload it, use:\n",
            "  %reload_ext autoreload\n"
          ]
        }
      ],
      "source": [
        "# import stuffs\n",
        "from src.data_module import WSD_DataModule\n",
        "from src.hyperparameters import Hparams\n",
        "from src.train import train_model\n",
        "from src.model import WSD_Model\n",
        "from src.utils import one_group_bar, plot_histogram, evaluation_pipeline\n",
        "\n",
        "import torch\n",
        "from torch import nn\n",
        "from collections import Counter\n",
        "import random\n",
        "from tqdm import tqdm\n",
        "import numpy as np\n",
        "import matplotlib.pyplot as plt\n",
        "import json\n",
        "import wandb\n",
        "from dataclasses import asdict\n",
        "import pytorch_lightning as pl\n",
        "\n",
        "# to have a better workflow using python notebooks\n",
        "%load_ext autoreload\n",
        "%autoreload 2"
      ]
    },
    {
      "cell_type": "code",
      "execution_count": 10,
      "metadata": {
        "id": "BiP2Q7ixdwuX"
      },
      "outputs": [
        {
          "name": "stderr",
          "output_type": "stream",
          "text": [
            "Global seed set to 1999\n"
          ]
        }
      ],
      "source": [
        "# setting the seed\n",
        "def set_seed(seed):\n",
        "    random.seed(seed)\n",
        "    np.random.seed(seed)\n",
        "    torch.manual_seed(seed)\n",
        "    torch.cuda.manual_seed(seed)\n",
        "    torch.backends.cudnn.deterministic = True\n",
        "    _ = pl.seed_everything(seed)\n",
        "set_seed(1999)"
      ]
    },
    {
      "attachments": {},
      "cell_type": "markdown",
      "metadata": {},
      "source": [
        "## Look at the data! 👀"
      ]
    },
    {
      "attachments": {},
      "cell_type": "markdown",
      "metadata": {},
      "source": [
        "The first thing to do before starting a new deep learning project is to look at the data! Without a quality dataset there's no way of achieving good results. In fact, a good *pre-processing* pipeline is a necessary condition for a high-quality **WSD system**. In the present case, the given dataset is quite *clean* and does not required much work but anyway there's always room for improvement.\n",
        "The significance of this aspect is frequently disregarded as WSD systems commonly depend on pre-parsed documents that have already been divided into sentences, tokenized, lemmatized, and POS-tagged (like in our dataset), but nothing should be taken for granted!"
      ]
    },
    {
      "attachments": {},
      "cell_type": "markdown",
      "metadata": {},
      "source": [
        "> In our approach to WSD, we employ a supervised method that involves training machine learning models on *sense-annotated* data. The first thing to do is indeed to create and define a **sense inventory**, that is the set of all possible senses for all the words involved in the task. The senses are *synsets* from ***WordNet*** and express the different meanings of a word. Therefore the engineering process of defining the correct candidate set of possible meanings remains central to the overall disambiguation process. Fortunately this work has already been done :)\n",
        "\n",
        "We are going to address two different WSD approaches:\n",
        "-   **fine-grained WSD**: the senses are the ones form WordNet and it aims to provide more precise and detailed sense distinctions.\n",
        "-   **coarse-grained WSD**: where we cluster the similar senses of a polysemous word to obtain a smaller number of sense distinctions. This approach aims to provide a higher-level understanding of word meanings, focusing on more general sense categories.\n"
      ]
    },
    {
      "attachments": {},
      "cell_type": "markdown",
      "metadata": {},
      "source": [
        "### Sense inventory"
      ]
    },
    {
      "attachments": {},
      "cell_type": "markdown",
      "metadata": {},
      "source": [
        "After making some reasonings, the easiest thing to do for build the sense invenctory was to take all the senses stored in the '*coarse_fine_defs_map.json*' file provided to us. We made all the possible checks to see if all the senses annotated in *train/val/test* datasets were not excluded and that's fortunately the case. \n",
        "\n",
        "> Of course the built sense inventory doesn't cover all the possible senses of all the possible polysemous words. Therefore I also implemented the logic for handle cases where the senses for the word to disambiguate are not present. In few words, by not cheating, if at least one sense among the candidate ones of the particular sample is \\<UNK\\>, the sense prediction will be <UNK> and consequently wrong.\n",
        "\n",
        "Saying that, there won't be these kind of problems when using *train/val/test* sets."
      ]
    },
    {
      "cell_type": "code",
      "execution_count": 38,
      "metadata": {},
      "outputs": [
        {
          "name": "stdout",
          "output_type": "stream",
          "text": [
            "Length of sense inventory for coarse-grained WSD is 2158\n"
          ]
        }
      ],
      "source": [
        "# TOTAL NUMBER OF SENSES for coarse-grained WSD\n",
        "hparams = asdict(Hparams()) # instantiate hyperparamters file\n",
        "d = json.load(open(hparams[\"prefix_path\"]+hparams[\"sense_map\"], \"r\"))\n",
        "all_senses_list = list(d.keys()) # 2158\n",
        "print(f\"Length of sense inventory for coarse-grained WSD is {len(all_senses_list)}\")"
      ]
    },
    {
      "cell_type": "code",
      "execution_count": 39,
      "metadata": {},
      "outputs": [],
      "source": [
        "# Since we are dealing with neural networks we need to encode the sense invectory and simply create a mapping between \n",
        "# coarse-grained senses and indices.\n",
        "\n",
        "# let's build sense2id and id2sense map for coarse-grained senses\n",
        "sense2id = {}\n",
        "id2sense = {}\n",
        "\n",
        "idx=0\n",
        "for sense in all_senses_list:\n",
        "    sense2id[sense] = idx\n",
        "    id2sense[idx] = sense\n",
        "    idx+=1\n",
        "\n",
        "sense2id[\"<UNK>\"] = idx\n",
        "id2sense[idx] = \"<UNK>\"\n",
        "    \n",
        "json.dump(sense2id, open(hparams[\"prefix_path\"]+\"model/files/coarse_sense2id.json\", \"w\"))\n",
        "json.dump(id2sense, open(hparams[\"prefix_path\"]+\"model/files/coarse_id2sense.json\", \"w\"))"
      ]
    },
    {
      "cell_type": "code",
      "execution_count": 4,
      "metadata": {},
      "outputs": [
        {
          "name": "stderr",
          "output_type": "stream",
          "text": [
            "100%|██████████| 225/225 [01:08<00:00,  3.29it/s]\n"
          ]
        },
        {
          "name": "stdout",
          "output_type": "stream",
          "text": [
            "Total senses for train dataset: 1933\n"
          ]
        },
        {
          "name": "stderr",
          "output_type": "stream",
          "text": [
            "100%|██████████| 17/17 [00:07<00:00,  2.19it/s]\n"
          ]
        },
        {
          "name": "stdout",
          "output_type": "stream",
          "text": [
            "Total senses for val dataset: 750\n"
          ]
        },
        {
          "name": "stderr",
          "output_type": "stream",
          "text": [
            "100%|██████████| 18/18 [00:07<00:00,  2.33it/s]"
          ]
        },
        {
          "name": "stdout",
          "output_type": "stream",
          "text": [
            "Total senses for test dataset: 781\n"
          ]
        },
        {
          "name": "stderr",
          "output_type": "stream",
          "text": [
            "\n"
          ]
        }
      ],
      "source": [
        "data = WSD_DataModule(hparams)\n",
        "data.setup()\n",
        "\n",
        "# TOTAL NUMBER OF TRAIN SENSES for coarse-grained WSD\n",
        "all_senses_train = []\n",
        "for batch in tqdm(data.train_dataloader()):\n",
        "    for candidate_set in batch[\"candidates\"]:\n",
        "        for candidate in candidate_set:\n",
        "            all_senses_train.append(candidate)            \n",
        "c_train = Counter(all_senses_train)\n",
        "print(f\"Total senses for train dataset: {len(c_train)}\") # 1933\n",
        "\n",
        "# TOTAL NUMBER OF TRAIN SENSES for coarse-grained WSD\n",
        "all_senses_val = []\n",
        "for batch in tqdm(data.val_dataloader()):\n",
        "    for candidate_set in batch[\"candidates\"]:\n",
        "        for candidate in candidate_set:\n",
        "            all_senses_val.append(candidate)\n",
        "c_val = Counter(all_senses_val)\n",
        "print(f\"Total senses for val dataset: {len(c_val)}\") # 750\n",
        "\n",
        "# TOTAL NUMBER OF TRAIN SENSES for coarse-grained WSD  \n",
        "all_senses_test = []\n",
        "for batch in tqdm(data.test_dataloader()):\n",
        "    for candidate_set in batch[\"candidates\"]:\n",
        "        for candidate in candidate_set:\n",
        "            all_senses_test.append(candidate)\n",
        "c_test = Counter(all_senses_test)\n",
        "print(f\"Total senses for test dataset: {len(c_test)}\") # 781"
      ]
    },
    {
      "cell_type": "code",
      "execution_count": 5,
      "metadata": {},
      "outputs": [],
      "source": [
        "# CHECK that all senses present in train/val/test are included in the SENSE INVENTORY\n",
        "all_senses_list = [sense2id[e] for e in all_senses_list] # we encode the senses\n",
        "i=0 \n",
        "for s in list(c_train.keys()):\n",
        "    if s not in all_senses_list:\n",
        "        print(s)\n",
        "        i+=1\n",
        "assert i==0\n",
        "\n",
        "i=0 \n",
        "for s in list(c_val.keys()):\n",
        "    if s not in all_senses_list:\n",
        "        i+=1\n",
        "assert i==0\n",
        "\n",
        "i=0   \n",
        "for s in list(c_test.keys()):\n",
        "    if s not in all_senses_list:\n",
        "        i+=1\n",
        "assert i==0"
      ]
    },
    {
      "attachments": {},
      "cell_type": "markdown",
      "metadata": {},
      "source": [
        "> *Sense inventory* comprehend all our dataset coarse-grained senses! "
      ]
    },
    {
      "attachments": {},
      "cell_type": "markdown",
      "metadata": {},
      "source": [
        "We do the same thing for **fine-grained** senses thanks to '*coarse_fine_defs_map.json*' file. The check we've done before it's now useless to perform since fine-grained senses are included in coarse-grained ones."
      ]
    },
    {
      "cell_type": "code",
      "execution_count": 6,
      "metadata": {},
      "outputs": [
        {
          "name": "stdout",
          "output_type": "stream",
          "text": [
            "Length of sense inventory for fine-grained WSD is 4476\n"
          ]
        }
      ],
      "source": [
        "# let's build sense2id and id2sense map for fine-graned senses\n",
        "d = json.load(open(hparams[\"prefix_path\"]+hparams[\"sense_map\"], \"r\"))\n",
        "all_senses_list = [] # 4476\n",
        "for k in d.keys():\n",
        "    for fine_s in d[k]:\n",
        "        all_senses_list.append(list(fine_s.keys())[0])\n",
        "print(f\"Length of sense inventory for fine-grained WSD is {len(all_senses_list)}\")\n",
        "\n",
        "sense2id = {}\n",
        "id2sense = {}\n",
        "\n",
        "idx=0\n",
        "for sense in all_senses_list:\n",
        "    sense2id[sense] = idx\n",
        "    id2sense[idx] = sense\n",
        "    idx+=1\n",
        "\n",
        "sense2id[\"<UNK>\"] = idx\n",
        "id2sense[idx] = \"<UNK>\"\n",
        "    \n",
        "json.dump(sense2id, open(hparams[\"prefix_path\"]+\"model/files/fine_sense2id.json\", \"w\"))\n",
        "json.dump(id2sense, open(hparams[\"prefix_path\"]+\"model/files/fine_id2sense.json\", \"w\"))"
      ]
    },
    {
      "cell_type": "code",
      "execution_count": 7,
      "metadata": {},
      "outputs": [],
      "source": [
        "# Because of some approaches I'll develop later I need \n",
        "# to build a direct mapping between fine and coarse-grained (we already have the opposite mapping)\n",
        "\n",
        "d = json.load(open(hparams[\"prefix_path\"]+hparams[\"sense_map\"], \"r\"))\n",
        "fine2coarse = {}\n",
        "for k in d.keys():\n",
        "    for fine_s in d[k]:\n",
        "        fine2coarse[list(fine_s.keys())[0]] = k\n",
        "\n",
        "json.dump(fine2coarse, open(hparams[\"prefix_path\"]+\"model/files/fine2coarse.json\", \"w\"))"
      ]
    },
    {
      "attachments": {},
      "cell_type": "markdown",
      "metadata": {},
      "source": [
        "### Data Analysis"
      ]
    },
    {
      "attachments": {},
      "cell_type": "markdown",
      "metadata": {},
      "source": [
        "> Let's make a quick quantitative analysis for facing what the dataset and the task is about."
      ]
    },
    {
      "attachments": {},
      "cell_type": "markdown",
      "metadata": {},
      "source": [
        "**Number of candidates histogram**"
      ]
    },
    {
      "cell_type": "code",
      "execution_count": 34,
      "metadata": {},
      "outputs": [
        {
          "name": "stderr",
          "output_type": "stream",
          "text": [
            "100%|██████████| 225/225 [00:48<00:00,  4.67it/s]\n",
            "100%|██████████| 17/17 [00:04<00:00,  3.60it/s]\n",
            "100%|██████████| 18/18 [00:04<00:00,  3.97it/s]\n"
          ]
        },
        {
          "data": {
            "image/png": "[encoded data removed]",
            "text/plain": [
              "<Figure size 1100x300 with 3 Axes>"
            ]
          },
          "metadata": {},
          "output_type": "display_data"
        }
      ],
      "source": [
        "data = WSD_DataModule(hparams)\n",
        "data.setup()\n",
        "num_candidates = []\n",
        "\n",
        "num_candidates_train = []\n",
        "for batch in tqdm(data.train_dataloader()):\n",
        "    for candidate_set in batch[\"candidates\"]:\n",
        "        num_candidates_train.append(len(candidate_set))\n",
        "num_candidates.append(num_candidates_train)\n",
        "        \n",
        "num_candidates_val = []\n",
        "for batch in tqdm(data.val_dataloader()):\n",
        "    for candidate_set in batch[\"candidates\"]:\n",
        "        num_candidates_val.append(len(candidate_set))\n",
        "num_candidates.append(num_candidates_val)\n",
        "        \n",
        "num_candidates_test = []\n",
        "for batch in tqdm(data.test_dataloader()):\n",
        "    for candidate_set in batch[\"candidates\"]:\n",
        "        num_candidates_test.append(len(candidate_set))\n",
        "num_candidates.append(num_candidates_test)\n",
        "    \n",
        "plot_histogram(num_candidates, multiple=True, title=\"Number of Candidates Histogram\")"
      ]
    },
    {
      "attachments": {},
      "cell_type": "markdown",
      "metadata": {},
      "source": [
        "> We can say for sure that the three splits represent the same data distribution (and this is already a good starting point). It's quite obvious that most of polysemous words have the range of possible meanings between 1 and 5. The only one coarse-grained sense is most likely case and this, of course, will help to increase my models performance (in the fine-grained case this doesn't stand anymore). <br> But the thing that immediately stands out is the presence of words with more than 5 possible \"coarse\" meanings! In particular the 15 case!\n",
        "\n",
        "For this reason I'm going to save all candidate sets which have a length bigger than 5 for keeping track of my models performance on them (which should be the hardest cases!). "
      ]
    },
    {
      "cell_type": "code",
      "execution_count": 50,
      "metadata": {},
      "outputs": [
        {
          "name": "stderr",
          "output_type": "stream",
          "text": [
            "100%|██████████| 225/225 [00:54<00:00,  4.13it/s]\n",
            "100%|██████████| 17/17 [00:04<00:00,  3.42it/s]\n",
            "100%|██████████| 18/18 [00:05<00:00,  3.43it/s]"
          ]
        },
        {
          "name": "stdout",
          "output_type": "stream",
          "text": [
            "There are 20 polysempus words which are harder to disambiguate for their many meanings!\n",
            "[(6, ['hall.n.h.01', 'hall.n.h.02', 'hall.n.h.03', 'hall.n.h.04', 'hall.n.h.05', 'hall.n.h.06']), (6, ['fool.n.h.01', 'grade.n.h.02', 'mark.n.h.01', 'mark.n.h.02', 'mark.n.h.03', 'mark.n.h.04']), (6, ['deal.n.h.03', 'down.n.h.03', 'mound. .h.01', 'nap.n.h.02', 'pile.n.h.01', 'pile.n.h.02']), (6, ['angle.v.h.01', 'bung.v.h.02', 'tap.v.h.02', 'tip.v.h.01', 'tip.v.h.02', 'tip.v.h.03']), (6, ['apex.n.h.02', 'bill.n.h.03', 'bloom.n.h.01', 'crest.n.h.02', 'tip.n.h.01', 'top.n.h.01']), (6, ['g.n.h.01', 'jet.n.h.04', 'k.n.h.01', 'k.n.h.02', 'k.n.h.03', 'k.n.h.04']), (7, ['bore.v.h.09', 'bore.v.h.12', 'bore.v.h.14', 'bore.v.h.15', 'express.v.h.01', 'pack.v.h.01', 'post.v.h.02']), (7, ['blow.n.h.02', 'c.n.h.01', 'c.n.h.03', 'c.n.h.08', 'c.n.h.10', 'c.n.h.11', 'c.n.h.12']), (7, ['g.n.h.01', 'g.n.h.03', 'g.n.h.04', 'g.n.h.05', 'g.n.h.08', 'g.n.h.09', 'g.n.h.10']), (7, ['o.n.h.01', 'o.n.h.02', 'os.n.h.01', 'os.n.h.02', 'os.n.h.07', 'os.n.h.08', 'os.n.h.09']), (8, ['billet.n.h.03', 'mail.n.h.01', 'post.n.h.01', 'post.n.h.02', 'post.n.h.03', 'post.n.h.04', 'post.n.h.05', 'post.n.h.06']), (8, ['gray.n.h.01', 'gray.n.h.02', 'gray.n.h.03', 'gray.n.h.04', 'gray.n.h.05', 'gray.n.h.06', 'gray.n.h.07', 'gray.n.h.08']), (8, ['young.n.h.01', 'young.n.h.03', 'young.n.h.04', 'young.n.h.05', 'young.n.h.06', 'young.n.h.07', 'young.n.h.08', 'young.n.h.09']), (9, ['pit.n.h.02', 'rock.n.h.01', 'stone.n.h.01', 'stone.n.h.02', 'stone.n.h.03', 'stone.n.h.04', 'stone.n.h.05', 'stone.n.h.06', 'stone.n.h.07']), (9, ['tweed.n.h.02', 'white.n.h.02', 'white.n.h.04', 'white.n.h.05', 'white.n.h.06', 'white.n.h.07', 'white.n.h.08', 'white.n.h.09', 'white.n.h.10']), (10, ['bound.v.h.03', 'bound.v.h.04', 'bound.v.h.05', 'bound.v.h.06', 'bound.v.h.07', 'bound.v.h.08', 'bound.v.h.09', 'bound.v.h.10', 'bound.v.h.11', 'bound.v.h.12']), (12, ['bound.v.h.01', 'bound.v.h.02', 'bound.v.h.03', 'bound.v.h.04', 'bound.v.h.05', 'bound.v.h.06', 'bound.v.h.07', 'bound.v.h.08', 'bound.v.h.09', 'bound.v.h.10', 'bound.v.h.11', 'bound.v.h.12']), (13, ['bore.v.h.03', 'bore.v.h.04', 'bore.v.h.05', 'bore.v.h.06', 'bore.v.h.07', 'bore.v.h.08', 'bore.v.h.09', 'bore.v.h.10', 'bore.v.h.11', 'bore.v.h.12', 'bore.v.h.13', 'bore.v.h.14', 'bore.v.h.15']), (15, ['found.v.h.01', 'found.v.h.02', 'found.v.h.03', 'found.v.h.04', 'found.v.h.05', 'found.v.h.06', 'found.v.h.07', 'found.v.h.08', 'found.v.h.09', 'found.v.h.10', 'found.v.h.11', 'found.v.h.12', 'found.v.h.13', 'found.v.h.14', 'found.v.h.15']), (15, ['bore.v.h.01', 'bore.v.h.02', 'bore.v.h.03', 'bore.v.h.04', 'bore.v.h.05', 'bore.v.h.06', 'bore.v.h.07', 'bore.v.h.08', 'bore.v.h.09', 'bore.v.h.10', 'bore.v.h.11', 'bore.v.h.12', 'bore.v.h.13', 'bore.v.h.14', 'bore.v.h.15'])]\n"
          ]
        },
        {
          "name": "stderr",
          "output_type": "stream",
          "text": [
            "\n"
          ]
        }
      ],
      "source": [
        "# I want to compute and actually see which are the most difficult (theoretically) words to disambiguate\n",
        "# (an example is 'hall', 'find', 'stone', 'bound', 'bore', 'found' etc.)\n",
        "hard_words_to_disambiguate = []\n",
        "\n",
        "for batch in tqdm(data.train_dataloader()):\n",
        "    for candidate_set in batch[\"candidates\"]:\n",
        "        if len(candidate_set) > 5:\n",
        "            candidate_set = [id2sense[e] for e in candidate_set]\n",
        "            candidate_set.sort()\n",
        "            if (len(candidate_set), candidate_set) not in hard_words_to_disambiguate:\n",
        "                hard_words_to_disambiguate.append((len(candidate_set), candidate_set))\n",
        "for batch in tqdm(data.val_dataloader()):\n",
        "    for candidate_set in batch[\"candidates\"]:\n",
        "        if len(candidate_set) > 5:\n",
        "            candidate_set = [id2sense[e] for e in candidate_set]\n",
        "            candidate_set.sort()\n",
        "            if (len(candidate_set), candidate_set) not in hard_words_to_disambiguate:\n",
        "                hard_words_to_disambiguate.append((len(candidate_set), candidate_set))\n",
        "for batch in tqdm(data.test_dataloader()):\n",
        "    for candidate_set in batch[\"candidates\"]:\n",
        "        if len(candidate_set) > 5:\n",
        "            candidate_set = [id2sense[e] for e in candidate_set]\n",
        "            candidate_set.sort()\n",
        "            if (len(candidate_set), candidate_set) not in hard_words_to_disambiguate:\n",
        "                hard_words_to_disambiguate.append((len(candidate_set), candidate_set))\n",
        "\n",
        "hard_words_to_disambiguate.sort(key=lambda x:x[0])\n",
        "print(f\"There are {len(hard_words_to_disambiguate)} polysempus words which are harder to disambiguate for their many meanings!\")\n",
        "print(hard_words_to_disambiguate)"
      ]
    },
    {
      "attachments": {},
      "cell_type": "markdown",
      "metadata": {},
      "source": [
        "**Least frequent senses**"
      ]
    },
    {
      "attachments": {},
      "cell_type": "markdown",
      "metadata": {},
      "source": [
        "> Another thing I want to see is which are the least frequent word senses in the *training* set. In this way I can understand and acknowledge which are the cases where my models will hypothetically suffer."
      ]
    },
    {
      "cell_type": "code",
      "execution_count": 83,
      "metadata": {},
      "outputs": [
        {
          "name": "stderr",
          "output_type": "stream",
          "text": [
            "100%|██████████| 225/225 [01:13<00:00,  3.04it/s]\n"
          ]
        }
      ],
      "source": [
        "l = []\n",
        "for batch in tqdm(data.train_dataloader()):\n",
        "    for label in batch[\"labels\"]:\n",
        "        l.append(id2sense[label])\n",
        "c = Counter(l)"
      ]
    },
    {
      "cell_type": "code",
      "execution_count": 84,
      "metadata": {},
      "outputs": [
        {
          "name": "stdout",
          "output_type": "stream",
          "text": [
            "STATISTICS:\n",
            "| mean: 11.341501976284585\n",
            "| std: 27.520577585316826\n",
            "| min: 1\n",
            "| max: 435\n"
          ]
        },
        {
          "data": {
            "image/png": "[encoded data removed]",
            "text/plain": [
              "<Figure size 700x700 with 1 Axes>"
            ]
          },
          "metadata": {},
          "output_type": "display_data"
        }
      ],
      "source": [
        "# just want to show the frequence histogram of each coarse-grained sense\n",
        "senses_frequence_list = list(c.values())\n",
        "plot_histogram(senses_frequence_list, title=\"Senses Frequence (train) Histogram\")"
      ]
    },
    {
      "attachments": {},
      "cell_type": "markdown",
      "metadata": {},
      "source": [
        "> This is exactly the **Zipf distribution**: the reason why WSD is not a trivial task at all. It shows us that few senses occur very frequently while the majority of senses occur relatively infrequently! \n",
        "\n",
        "It doesn't make much sense to show the least training frequent senses because they are too many, but anyway I'm going to show for the sake of curiosity the least 20 frequent ones."
      ]
    },
    {
      "cell_type": "code",
      "execution_count": 98,
      "metadata": {},
      "outputs": [
        {
          "data": {
            "image/png": "[encoded data removed]",
            "text/plain": [
              "<Figure size 1200x500 with 1 Axes>"
            ]
          },
          "metadata": {},
          "output_type": "display_data"
        }
      ],
      "source": [
        "least_common_senses = c.most_common(len(c))[-20:]\n",
        "columns = [e[0] for e in least_common_senses]\n",
        "data = [[e[1] for e in least_common_senses]]\n",
        "title = \"Least 20 frequent (train) senses\"\n",
        "one_group_bar(columns, data, title)"
      ]
    },
    {
      "attachments": {},
      "cell_type": "markdown",
      "metadata": {},
      "source": [
        "### Clean tokens"
      ]
    },
    {
      "cell_type": "code",
      "execution_count": null,
      "metadata": {},
      "outputs": [],
      "source": [
        "# sentence length histogram\n",
        "from src.utils import read_dataset\n",
        "\n",
        "train_sentences, _ = read_dataset(hparams[\"prefix_path\"]+hparams[\"data_train\"])\n",
        "sent_lengths_list = []\n",
        "for item in train_sentences:\n",
        "    sent_lengths_list.append(len(item[\"words\"]))\n",
        "    \n",
        "plot_histogram(sent_lengths_list)"
      ]
    },
    {
      "cell_type": "code",
      "execution_count": null,
      "metadata": {},
      "outputs": [],
      "source": [
        "# filtering the sentences\n",
        "from src.utils import read_dataset\n",
        "\n",
        "train_sentences, _ = read_dataset(hparams[\"prefix_path\"]+hparams[\"data_train\"])\n",
        "sent_lengths_list = []\n",
        "tot_sentences, filtered_sentences = 0, 0\n",
        "for item in train_sentences:\n",
        "    tot_sentences += 1\n",
        "    if len(item[\"words\"])< 5 or len(item[\"words\"])> 85:\n",
        "        filtered_sentences += 1\n",
        "        continue\n",
        "    sent_lengths_list.append(len(item[\"words\"]))\n",
        "plot_histogram(sent_lengths_list)\n",
        "print(\" ______________________________________________________________________________\")\n",
        "print(f\"|After the filtering we've lost only the {round((filtered_sentences/tot_sentences)*100,2)}% of  original training sentences!|\")\n",
        "print(\" ______________________________________________________________________________\")"
      ]
    },
    {
      "attachments": {},
      "cell_type": "markdown",
      "metadata": {},
      "source": [
        "BUILD THE VOCABULARY SKIPPED PART!!!!!"
      ]
    },
    {
      "cell_type": "code",
      "execution_count": null,
      "metadata": {},
      "outputs": [],
      "source": [
        "# let's see how we are dealing with <UNK> token and how to use or if it is needed a clean_token() function!\n",
        "data = WSD_DataModule(hparams)\n",
        "data.setup()\n",
        "\n",
        "tot_tokens = 0\n",
        "tot_unk = 0\n",
        "for batch in tqdm(data.train_dataloader()):\n",
        "    for input in batch[\"input\"][\"input_ids\"]:\n",
        "        for e in input:\n",
        "            if e.item() == 0:\n",
        "                break\n",
        "            tot_tokens+=1\n",
        "            if e.item() == 100:\n",
        "                tot_unk+=1\n",
        "print(f\"we have a total of {tot_tokens} tokens\")\n",
        "print(f\"with {tot_unk} <UNK> tokens!\")"
      ]
    },
    {
      "attachments": {},
      "cell_type": "markdown",
      "metadata": {},
      "source": [
        "> It's unbelievable how, thanks to the **BERT Tokenizer** (*WordPiece*), we generate zero \\<UNK\\> tokens! "
      ]
    },
    {
      "attachments": {},
      "cell_type": "markdown",
      "metadata": {},
      "source": [
        "we need to do a sanity checks:\n",
        "- see if all the senses are valid etc.\n",
        "- see if at least one word to disambiguate is present.\n",
        "- "
      ]
    },
    {
      "attachments": {},
      "cell_type": "markdown",
      "metadata": {
        "id": "VexyCqTojBxc"
      },
      "source": [
        "## Look at the data! 👀"
      ]
    },
    {
      "cell_type": "code",
      "execution_count": null,
      "metadata": {
        "colab": {
          "base_uri": "https://localhost:8080/",
          "height": 418
        },
        "id": "TlpsodU-3vcv",
        "outputId": "b3aa5b52-8acd-44de-c80a-6741d6e0ead0"
      },
      "outputs": [],
      "source": [
        "data = []\n",
        "\n",
        "# TRAIN\n",
        "c = Counter([e for sublist in [d[\"labels\"] for d in data_train] for e in sublist])\n",
        "l = list(c.values())\n",
        "tot = 0\n",
        "for v in l:\n",
        "    tot += int(v)\n",
        "for i in range(len(l)):\n",
        "    l[i] = (l[i]/tot)*100\n",
        "data.append(l)\n",
        "\n",
        "# VAL\n",
        "c = Counter([e for sublist in [d[\"labels\"] for d in data_val] for e in sublist])\n",
        "l = list(c.values())\n",
        "tot = 0\n",
        "for v in l:\n",
        "    tot += int(v)\n",
        "for i in range(len(l)):\n",
        "    l[i] = (l[i]/tot)*100\n",
        "data.append(l)\n",
        "\n",
        "# TEST\n",
        "c = Counter([e for sublist in [d[\"labels\"] for d in data_test] for e in sublist])\n",
        "l = list(c.values())\n",
        "tot = 0\n",
        "for v in l:\n",
        "    tot += int(v)\n",
        "for i in range(len(l)):\n",
        "    l[i] = (l[i]/tot)*100\n",
        "data.append(l)\n",
        "\n",
        "columns = list(c.keys())\n",
        "three_group_bar(columns, data, \"train/val/test Labels Distribution\")"
      ]
    },
    {
      "attachments": {},
      "cell_type": "markdown",
      "metadata": {
        "id": "Gttft-3J9mYK"
      },
      "source": [
        "As we can see above the three distribution are quite similar and is pretty evident how the \"*O*\" label is the most dominant one. Hence, we are dealing with an *unbalanced* dataset and in fact all the choices that I've made during the development path of the project were selected to address this problem. <br> The context setting is low and for each sentence there are no many words to help the model to predict the events. For this reason, in my opinion, has been crucial to first **clean the tokens** from any dirtiness and create new and smart ones and secondly to **build a vocabulary** by generating as few *OOV* words as possible because any word is precious in a task like this."
      ]
    },
    {
      "attachments": {},
      "cell_type": "markdown",
      "metadata": {
        "id": "Va8qDh2_E9nz"
      },
      "source": [
        "### Clean tokens 🧹"
      ]
    },
    {
      "attachments": {},
      "cell_type": "markdown",
      "metadata": {
        "id": "4RAc71hFFCe5"
      },
      "source": [
        "As I 've already said, the dataset wasn't looking too bad, but some *cleaning* operations were needed to achieve better results on the task. <br> The choices made at this step had two different aims: \n",
        "* simple *cleaning* of tokens from weird symbols, punctuations, UNICODE characters and so on;\n",
        "*  *definition* of new tokens with the hope of helping the model to make good predictions based on their position and context.\n",
        "\n",
        "> 🔸 The function I implemented is \"*clean_tokens*\" from the *data.py* file and below I'll described the most significant changes that I executed. Of course, this function is applied to all the dataset splits (*train/val/test*)."
      ]
    },
    {
      "cell_type": "code",
      "execution_count": null,
      "metadata": {
        "id": "S6OxXVucKmSL"
      },
      "outputs": [],
      "source": [
        "# this is simply how you perform the cleaning\n",
        "train_sentences = [e[\"tokens\"] for e in data_train]\n",
        "clean_tokens(train_sentences)"
      ]
    },
    {
      "attachments": {},
      "cell_type": "markdown",
      "metadata": {
        "id": "usKzBZW6K_Az"
      },
      "source": [
        "🗒 Basic ***clean_tokens*** steps:\n",
        "*  in the dataset were often present this kind of misprint character sequence [\"<\", \"ref\", \"name=\", \"''\", \"AAIB_8/88\", \"''\", \">\"] that I decided to not consider;\n",
        "* for dealing with situations like the one above, I introduced a new token *\\<IGNORE\\>* hoping that the system would ignore it at prediction time. I also defined a set of punctuations/symbols to be substituted by this new token;\n",
        "* besides the fact of mapping the digit numbers from 0 to 10 to their string version (\"2\" ➡ \"two\"), I introduced an other new token *\\<NUMBER\\>* for all the numbers that appeared in the dataset. This choice has been made for treating all the numbers at the same level of contextual importance;\n",
        "* a subset of punctuations/symbols that constituted a single token (the ones contained as a part of other words were simply deleted) were left untouched and considered as standalone tokens;\n",
        "* all the tokens were lower-cased, I deleted all the unicode characters (e.g. *\\u00f* ), I substituted all the types of brackets to the round ones and all this type of quotes \" ` \" to this one \" ' \". I replaced \"&\" with \"and\" and kept the saxon genitive \" 's \" as a single token. "
      ]
    },
    {
      "attachments": {},
      "cell_type": "markdown",
      "metadata": {
        "id": "ZO0jRXdhQGNS"
      },
      "source": [
        "### Build Vocabulary"
      ]
    },
    {
      "attachments": {},
      "cell_type": "markdown",
      "metadata": {
        "id": "hDJhlCuRQQls"
      },
      "source": [
        "Since we are going to leverage an architecture with the *embedding layer* at the beginning, we need to decide which **word embedding** to use. It's quite clear that by using it the performance of the model will increase. <br> *Word2Vec* was a possible choice but it generated, according to me, too many *OOV* words and *fastText* was maybe the best choice (many people tell so) but dealing with subwords embeddings was not the best idea. I therefore decided to use **GloVe**. I had three options from the Stanford website but at the end I decided to download \"***glove.6B.zip***\" because is *uncased*, it has a relatively small vocabulary size (*400K*) with respect to other options but big enough for my purposes and it has four different word embedding sizes (50, 100, 200 and 300) for making experiments. \n",
        "> *The **300** embedding size will perform better on my models!*"
      ]
    },
    {
      "cell_type": "code",
      "execution_count": null,
      "metadata": {
        "id": "QL5I_Se1YxSv"
      },
      "outputs": [],
      "source": [
        "# download GloVe pretrained embeddings\n",
        "!wget https://nlp.stanford.edu/data/glove.6B.zip\n",
        "!unzip ../../model/glove.6B.zip"
      ]
    },
    {
      "attachments": {},
      "cell_type": "markdown",
      "metadata": {
        "id": "ol9EK2vMYxjm"
      },
      "source": [
        "So the starting vocabulary will be the one implicitly defined by the GloVe files."
      ]
    },
    {
      "cell_type": "code",
      "execution_count": null,
      "metadata": {
        "id": "w3l96jkrZFik"
      },
      "outputs": [],
      "source": [
        "def build_glove_vocab(glove_file, emb_size=300):\n",
        "    word2id = OrderedDict()\n",
        "    id2emb = OrderedDict()\n",
        "    id = 0\n",
        "    for l in open(glove_file, \"r\"):\n",
        "        line = l.split(\" \")\n",
        "        word = line[0]\n",
        "        emb = np.asarray(line[1:], dtype=\"float64\")\n",
        "        word2id[word] = id\n",
        "        id2emb[id] = emb\n",
        "        id += 1\n",
        "    return word2id, id2emb"
      ]
    },
    {
      "cell_type": "code",
      "execution_count": null,
      "metadata": {
        "id": "bp0w2qSGc5iu"
      },
      "outputs": [],
      "source": [
        "glove_file = \"model/glove/glove.6B.300d.txt\"\n",
        "word2id, id2emb = build_glove_vocab(glove_file)"
      ]
    },
    {
      "attachments": {},
      "cell_type": "markdown",
      "metadata": {
        "id": "g0BwA_v4gFqk"
      },
      "source": [
        "> Since I introduced two new tokens ***\\<IGNORE\\>*** and ***\\<NUMBER\\>*** and I don't want to lose any information that can be used to benefit events prediction, I need to extend the vocabulary. I first have to select the most frequent words which are in my training set but not in the vocabulary and then add them to it."
      ]
    },
    {
      "cell_type": "code",
      "execution_count": null,
      "metadata": {
        "colab": {
          "base_uri": "https://localhost:8080/"
        },
        "id": "UzLRLvaXid9F",
        "outputId": "0142943f-9c29-4cd3-b699-f1841e296fd7"
      },
      "outputs": [],
      "source": [
        "# list of training OOV words\n",
        "oov_list = []\n",
        "for token in [e for sublist in [e[\"tokens\"] for e in data_train] for e in sublist]:\n",
        "    if token not in word2id and token not in oov_list:\n",
        "        oov_list.append(token)\n",
        "\n",
        "# count the frequencies of each OOV word\n",
        "c = Counter([e for sublist in [e[\"tokens\"] for e in data_train] for e in sublist if e in oov_list])\n",
        "# show the 100 most common ones\n",
        "c.most_common(100)\n",
        "\n",
        "# as a design choice I decide to pick only the train OOV words which have a frequency higher or equal than 10!\n",
        "words_to_add = []\n",
        "for e in c.most_common(100):\n",
        "    if e[1] >= 10:\n",
        "        words_to_add.append(e[0])"
      ]
    },
    {
      "cell_type": "code",
      "execution_count": null,
      "metadata": {
        "id": "aMOKt1nYe9Wc"
      },
      "outputs": [],
      "source": [
        "def build_extended_vocab(glove_file, words_to_add, emb_size=300):\n",
        "    word2id = OrderedDict()\n",
        "    id2emb = OrderedDict()\n",
        "    tot, numbers_tot = np.zeros(emb_size, dtype=\"float64\"), np.zeros(emb_size, dtype=\"float64\")\n",
        "    id, num = 0, 0\n",
        "    for l in open(glove_file, \"r\"):\n",
        "        line = l.split(\" \")\n",
        "        word = line[0]\n",
        "        emb = np.asarray(line[1:], dtype=\"float64\")\n",
        "        if word.isnumeric():\n",
        "            numbers_tot += emb\n",
        "            num += 1\n",
        "        word2id[word] = id\n",
        "        id2emb[id] = emb\n",
        "        tot += emb\n",
        "        id += 1\n",
        "    \n",
        "    for w in words_to_add:\n",
        "        word2id[w] = id\n",
        "        if w==\"<NUMBER>\":\n",
        "            emb = numbers_tot/num # average of all the numbers embeddings\n",
        "            id2emb[id] = emb\n",
        "            tot += emb\n",
        "        else:\n",
        "            emb = np.random.rand(emb_size) # random initialization of the embedding\n",
        "            id2emb[id] = emb\n",
        "            tot += emb\n",
        "        id += 1\n",
        "\n",
        "    word2id['<UNK>'] = id\n",
        "    id2emb[id] = tot/id # average of the other embeddings\n",
        "    word2id['<PAD>'] = id+1\n",
        "    id2emb[id+1] = np.zeros(emb_size, dtype=\"float64\")\n",
        "    return word2id, id2emb"
      ]
    },
    {
      "cell_type": "code",
      "execution_count": null,
      "metadata": {
        "id": "2GicyyB7oXDn"
      },
      "outputs": [],
      "source": [
        "glove_file = \"model/glove/glove.6B.300d.txt\"\n",
        "word2id, id2emb = build_extended_vocab(glove_file, words_to_add)"
      ]
    },
    {
      "cell_type": "code",
      "execution_count": null,
      "metadata": {
        "id": "lm-USItkprC-"
      },
      "outputs": [],
      "source": [
        "# if not already there, you can save the vocabulary in \"model/files/vocabs\" as \"word2id.json\"\n",
        "json.dump(word2id, open(\"model/files/vocabs/word2id.json\", \"w\"))\n",
        "\n",
        "# if not already done, you can save the embedding layer in \"model/embeddings/300\" as \"embedding_layer.pth\"\n",
        "embedding_layer = torch.nn.Embedding.from_pretrained(torch.from_numpy(np.vstack(list(id2emb.values()))))\n",
        "torch.save(embedding_layer.state_dict(), \"model/embeddings/300/embedding_layer.pth\")"
      ]
    },
    {
      "attachments": {},
      "cell_type": "markdown",
      "metadata": {
        "id": "xp6iTLsMrNmN"
      },
      "source": [
        "> 🔸 To check the goodness of my extended vocabulary and of the previous token cleaning process, I want to check if there are labeled *EVENTS* that are not present in the vocabulary (*OOV events*). If so, I'll intervene in some way."
      ]
    },
    {
      "cell_type": "code",
      "execution_count": null,
      "metadata": {
        "id": "eDOpUTbFsKOk"
      },
      "outputs": [],
      "source": [
        "for sample in data_train:\n",
        "    for i in range(len(sample[\"tokens\"])):\n",
        "        if sample[\"labels\"][i] != \"O\" and sample[\"tokens\"][i] not in word2id:\n",
        "            print(\"OOV event detected!\")\n",
        "# it doesn't print anything, so we're OK!"
      ]
    },
    {
      "attachments": {},
      "cell_type": "markdown",
      "metadata": {
        "id": "6dDXR1c5tJ39"
      },
      "source": [
        "> ⚡ **Embeddings strategy**: given that the \"GloVe\" embeddings are already pretrained and instead the new words that I added to the extended version of it are randomly initialized, it made sense to me to differentiate their training behaviour. In fact, if the *hyperparameter* ***num_emb*** is set to 2, we have the option to stop the finetuning process of the pretrained GloVe embeddings after **stop_train_emb** epochs while  continuing the training of the \"added\" embeddings. For this purpose, in practice, we have to \"split\" the vocabulary and create two separate embedding layers.\n"
      ]
    },
    {
      "cell_type": "code",
      "execution_count": null,
      "metadata": {
        "id": "5KK0BmqBwWY-"
      },
      "outputs": [],
      "source": [
        "## GloVe embeddings\n",
        "id2emb_1 = {k:v for k,v in id2emb.items() if k<400000}\n",
        "# if not already done, you can save the embedding layer in \"model/embeddings/300\" as \"embedding_layer_1.pth\"\n",
        "embedding_layer_1 = torch.nn.Embedding.from_pretrained(torch.from_numpy(np.vstack(list(id2emb_1.values()))))\n",
        "torch.save(embedding_layer_1.state_dict(), \"model/embeddings/300/embedding_layer_1.pth\")\n",
        "\n",
        "## new added embeddings\n",
        "id2emb_2 = {str(int(k)-400000):v for k,v in id2emb.items() if k>=400000}\n",
        "# if not already done, you can save the embedding layer in \"model/embeddings/300\" as \"embedding_layer_2.pth\"\n",
        "embedding_layer_2 = torch.nn.Embedding.from_pretrained(torch.from_numpy(np.vstack(list(id2emb_2.values()))))\n",
        "torch.save(embedding_layer_2.state_dict(), \"model/embeddings/300/embedding_layer_2.pth\")"
      ]
    },
    {
      "attachments": {},
      "cell_type": "markdown",
      "metadata": {
        "id": "9OTnM0GAzbdf"
      },
      "source": [
        "### Filter Sentences 🥅"
      ]
    },
    {
      "attachments": {},
      "cell_type": "markdown",
      "metadata": {
        "id": "S-8umVyN0E7y"
      },
      "source": [
        "Another important step before finishing the preprocessing part, is to filter out the *training* sentences. This is something it has to be done only at training time because the test/val datasets don't have to be touched in this sense. <br> Let's first see which is the histogram of sentences length."
      ]
    },
    {
      "cell_type": "code",
      "execution_count": null,
      "metadata": {
        "colab": {
          "base_uri": "https://localhost:8080/",
          "height": 786
        },
        "id": "yDqHDQ-zzq7Q",
        "outputId": "1e559960-7df2-4c8e-9a80-5ce991e53488"
      },
      "outputs": [],
      "source": [
        "sent_lengths_list = [len(e) for e in train_sentences]\n",
        "plot_histogram(sent_lengths_list)"
      ]
    },
    {
      "attachments": {},
      "cell_type": "markdown",
      "metadata": {
        "id": "__FksEIBLSN0"
      },
      "source": [
        "As we can see there are some \"sentence *outliers*\" which deviates from the majority of data and this is not good in machine learning because our aim is always to learn a data distribution. Actually the mean value is 25, but we have the maximum sentence length that reaches 343. This kind of training samples have to be avoided in order to not make the model learn other type of distribution. <br> Saying that, the first step to do is to filter sentences based on their length. I've choosen to set *min_sent_length=2* and *max_sent_length=60* as length bounds and they appeared to work pretty good. Other type of sentences that I wanted to delete from the train set, as not useful for the prediction process, were the ones with no \"*EVENTS*\", i.e. labels with all \"*O*\"."
      ]
    },
    {
      "cell_type": "code",
      "execution_count": null,
      "metadata": {
        "colab": {
          "base_uri": "https://localhost:8080/",
          "height": 786
        },
        "id": "4ad7Kmvi2lNk",
        "outputId": "15e12e82-3cac-4203-f849-f001253f69f9"
      },
      "outputs": [],
      "source": [
        "train_sentences, train_labels = filter_sentences([e[\"tokens\"] for e in data_train], [e[\"labels\"] for e in data_train], word2id)\n",
        "sent_lengths_list = [len(e) for e in train_sentences]\n",
        "plot_histogram(sent_lengths_list)"
      ]
    },
    {
      "attachments": {},
      "cell_type": "markdown",
      "metadata": {
        "id": "Xuj4qddqPakI"
      },
      "source": [
        "> 🔸 Look now how good the shape is looking! Only *9%* of sentences are excluded (1778 sentences). The function I implemented to do this filtering is \"*filter_sentences*\" from the *data.py* file and is only applied to *training* data."
      ]
    },
    {
      "attachments": {},
      "cell_type": "markdown",
      "metadata": {
        "id": "5FcrCHdjQ9Jf"
      },
      "source": [
        "## Models"
      ]
    },
    {
      "attachments": {},
      "cell_type": "markdown",
      "metadata": {
        "id": "3ZjrJeRTRBiw"
      },
      "source": [
        "The adviced model architecture is a simple composition of an **Embedding layer**, a **Sequence encoder** and at the end a **Classifier**. <br> What I've implemented for this homework:\n",
        "* *nn.Embedding* pytorch module to work as a lookup table with pretrained GloVe embeddings and additional embeddings. Possibility of split the embeddings to have two different ways of being trained.\n",
        "* *nn.LSTM* pytorch architecture was the immediate choice. I didn't try other *RNNs-like* architectures as *GRU* for example because honestly since the beginning I achieved good results and therefore I decided to focus on *hyperparameters tuning* (using *Sweep* feature of  WandB). Without *LSTM*, it would have been impossible to encode information about the context of words (basic for our task) and it's probably the main block of the model. With respect to *vanilla RNNs*, it overcomes the vanishing gradient problem and it most robust to long term dependencies between words. One of its greatest power is the possibility of encoding the sequence both from *left-to-right* and *from right-to-left* to further enhance contextualization (***Bi-LSTMS***). To increase the performance I played and tweaked with *hidden_dim*, *bidirectional* and *num_layers* hyperparameter values.\n",
        "* *nn.Linear* is the simplest classifier to use. I also implemented a *MLP classifier* with three layers and ReLu activation functions, but with poor results. Therefore I used the simplest version which performed better and has moreover less weights to train."
      ]
    },
    {
      "attachments": {},
      "cell_type": "markdown",
      "metadata": {
        "id": "PofkCwLlazrG"
      },
      "source": [
        "### ⚡ EXTRAS "
      ]
    },
    {
      "attachments": {},
      "cell_type": "markdown",
      "metadata": {
        "id": "yZUPF523bda4"
      },
      "source": [
        "During the very first experiments I noticed that for the system was especially hard to predict correctly the \"*inside*\" tags. Reasoning about it, this can be due  to the scarcity of these type of labels. In fact, with  respect to the \"*begin*\" tags, they are really a lot fewer (see the first plot of labels distribution). But anyway, I approach this issue and tried to solve it. \n",
        "\n",
        "* The first idea was to sum to the word embeddings, as it happens in *Transformer* models, a **positional encoding**. In order to convey to the model a sort of knowledge about where the tokens are within the sequence. For example if the prediction is \"*B-ACTION*\" at position *i*, the system should understand that the probability that \"I-ACTION\" is at *i+1* is higher than position *i-1*. It didn't work as expected: maybe because the positional encoding expresses its full potential in the moment in which *attention* in involved. \n",
        "* The second idea was to leverage **POS tags**. This because I noticed that most of the time the *events* are verbs (VERB) and I thought that giving the model an information like this it would have helped it. However I think that giving POS tags is in general benefitting the overall system since it can learn or extrapolate underlying grammatical relations which I could never have noticed. *How to provide/combine them with the model?* I tried and thought many options but at the end the most intuitive one is the following: after computing the POS tags of the input sequence, I embed it in a simply *Embedding layer*, I then sum the result to the *LSTM output* and finally feed it to a *Linear layer* which learns to compute the best way (hopefully) of combining them. "
      ]
    },
    {
      "attachments": {},
      "cell_type": "markdown",
      "metadata": {
        "id": "d7QQ9HR6bU-Y"
      },
      "source": [
        "### Baseline"
      ]
    },
    {
      "attachments": {},
      "cell_type": "markdown",
      "metadata": {
        "id": "vImA1v13dwZh"
      },
      "source": [
        "<br>\n",
        "<table>\n",
        "  <tr>\n",
        "    <th><center>hparams</center></th>\n",
        "    <th><center> </center></th>\n",
        "  </tr>\n",
        "  <tr>\n",
        "    <td><center>load_pretrained_emb</center></td>\n",
        "    <td><center>False</center></td>\n",
        "  </tr>\n",
        "    <tr>\n",
        "    <td><center>hidden_dim</center></td>\n",
        "    <td><center>512</center></td>\n",
        "  </tr>\n",
        "    <tr>\n",
        "    <td><center>bidirectional</center></td>\n",
        "    <td><center>False</center></td>\n",
        "  </tr>\n",
        "    <tr>\n",
        "    <td><center>num_layers</center></td>\n",
        "    <td><center>1</center></td>\n",
        "  </tr>\n",
        "   <tr>\n",
        "    <td><center>dropout</center></td>\n",
        "    <td><center>0</center></td>\n",
        "  </tr>\n",
        "    <tr>\n",
        "    <td><center>⚡ POS_emb</center></td>\n",
        "    <td><center>False</center></td>\n",
        "  </tr>\n",
        "    <tr>\n",
        "    <td><center>⚡ positional_encode</center></td>\n",
        "    <td><center>False</center></td>\n",
        "  </tr>\n",
        " \n",
        "\n",
        "</table>\n",
        "<br>"
      ]
    },
    {
      "attachments": {},
      "cell_type": "markdown",
      "metadata": {
        "id": "thuSXCHgcXcT"
      },
      "source": [
        "## Dataset"
      ]
    },
    {
      "attachments": {},
      "cell_type": "markdown",
      "metadata": {},
      "source": []
    },
    {
      "attachments": {},
      "cell_type": "markdown",
      "metadata": {
        "id": "BaynqYLrbhu9"
      },
      "source": [
        "## Training ⛏"
      ]
    },
    {
      "attachments": {},
      "cell_type": "markdown",
      "metadata": {
        "id": "_AzCKIquGvIC"
      },
      "source": [
        "> Throughout all the project I used ***WandB*** as logging tool."
      ]
    },
    {
      "cell_type": "code",
      "execution_count": null,
      "metadata": {
        "id": "2jtRPKhY9jtY"
      },
      "outputs": [],
      "source": [
        "def training_pipeline(config=None):\n",
        "    hparams_tuning = False\n",
        "    version_name = \"bert_silu_drop_0.6_sum\"\n",
        "    with wandb.init(entity=\"lavallone\", project=\"NLP\", name=version_name, mode=\"online\", config=config):\n",
        "        seed = wandb.config.seed if hparams_tuning else 1999\n",
        "        set_seed(seed)\n",
        "        hparams = asdict(Hparams())\n",
        "        # when doing the hparams search, this is how each run we change them to search for the best combinations!\n",
        "        if hparams_tuning:\n",
        "            hparams[\"batch_size\"] = wandb.config.batch_size\n",
        "            hparams[\"dropout\"] = wandb.config.dropout\n",
        "            hparams[\"lr\"] = wandb.config.lr\n",
        "            hparams[\"hidden_dim\"] = wandb.config.hidden_dim\n",
        "            hparams[\"seed\"] = wandb.config.seed\n",
        "\n",
        "        data = WSD_DataModule(hparams)\n",
        "        model = WSD_Model(hparams)\n",
        "        device = \"cuda\" if torch.cuda.is_available() else \"cpu\"\n",
        "        model.to(device)\n",
        "        \n",
        "        train_model(data, model, experiment_name=version_name, patience=5, metric_to_monitor=\"val_loss\", mode=\"min\", epochs=100, precision=hparams[\"precision\"])"
      ]
    },
    {
      "cell_type": "code",
      "execution_count": null,
      "metadata": {
        "id": "a1qHpDFmAEP6"
      },
      "outputs": [],
      "source": [
        "wandb.login() # this is the key to paste each time for login: 65a23b5182ca8ce3eb72530af592cf3bfa19de85\n",
        "training_pipeline()\n",
        "wandb.finish()"
      ]
    },
    {
      "attachments": {},
      "cell_type": "markdown",
      "metadata": {
        "id": "_SwNRcdPbjvg"
      },
      "source": [
        "### Hyperparameters tuning"
      ]
    },
    {
      "attachments": {},
      "cell_type": "markdown",
      "metadata": {
        "id": "q9sF5ldZO5g6"
      },
      "source": [
        "> *WandB* provides a very user-friendly and easy-to-use *automated hyperparameter search* tool called ***Sweep***. This is how I tuned my hyperparameters. It can be noticed that I wanted to search also for the *random seed generator* both for \"picking\" the most convenient network's weights initialization and for selecting the \"best\" training dataloaders combination when using the *mixing windows strategy*. "
      ]
    },
    {
      "cell_type": "code",
      "execution_count": null,
      "metadata": {
        "id": "SCAV15D1bl14"
      },
      "outputs": [],
      "source": [
        "wandb.login() # this is the key to paste each time for login: 65a23b5182ca8ce3eb72530af592cf3bfa19de85\n",
        "\n",
        "sweep_config = {'method': 'random',\n",
        "                'metric': {'goal': 'maximize', 'name': 'val_macro_f1', 'target' : 0.73},\n",
        "                'parameters': {\n",
        "                                'batch_size': {'values': [64, 128, 256, 512]},\n",
        "                                'dropout': {'distribution': 'uniform', 'min': 0.3, 'max': 0.5},\n",
        "                                'emb_dim': {'values': [50, 100, 200, 300]},\n",
        "                                'lr': {'distribution': 'uniform', 'min': 1e-4, 'max': 1e-2},\n",
        "                                'num_layers': {'distribution': 'int_uniform', 'min': 1, 'max': 5},\n",
        "                                'hidden_dim': {'distribution': 'int_uniform', 'min': 200, 'max': 600},\n",
        "                                'seed': {'distribution': 'int_uniform', 'min': 1, 'max': 1000},\n",
        "                            }\n",
        "               }\n",
        "\n",
        "sweep_id = wandb.sweep(sweep=sweep_config, project=\"NLP\", entity=\"lavallone\")\n",
        "wandb.agent(sweep_id, function=training_pipeline, count=40)\n",
        "wandb.finish()"
      ]
    },
    {
      "attachments": {},
      "cell_type": "markdown",
      "metadata": {
        "id": "ue4txjgQRtGs"
      },
      "source": [
        "## Evaluation"
      ]
    },
    {
      "attachments": {},
      "cell_type": "markdown",
      "metadata": {
        "id": "SC-4QOv7LMm2"
      },
      "source": [
        "> I also implemented an *evaluation pipeline* to avoid to execute each time the provided *test.sh* shell script. In fact it uses *docker* 🐳, which consumes a lot of storage space each run. Of course I'll use it for the final evaluation of my best model."
      ]
    },
    {
      "cell_type": "code",
      "execution_count": null,
      "metadata": {
        "colab": {
          "base_uri": "https://localhost:8080/",
          "height": 1000
        },
        "id": "wRe7SVyXMMJ_",
        "outputId": "1dddadae-d286-4b44-c048-578f22e5af02"
      },
      "outputs": [],
      "source": [
        "# TEST\n",
        "best_ckpt = \"../../model/checkpoints/bert_relu_drop_0.6_batch_128-epoch=22-val_micro_f1=0.8730.ckpt\"\n",
        "model = WSD_Model.load_from_checkpoint(best_ckpt, strict=False, device=\"cuda\" if torch.cuda.is_available() else \"cpu\")\n",
        "data = WSD_DataModule(model.hparams)\n",
        "data.setup()\n",
        "\n",
        "additional_infos = False\n",
        "if additional_infos:\n",
        "    classification_report = evaluation_pipeline(model, data, additional_infos=additional_infos)\n",
        "else:\n",
        "    evaluation_pipeline(model, data)"
      ]
    }
  ],
  "metadata": {
    "accelerator": "GPU",
    "colab": {
      "gpuType": "T4",
      "machine_shape": "hm",
      "provenance": []
    },
    "gpuClass": "standard",
    "kernelspec": {
      "display_name": "Python 3",
      "name": "python3"
    },
    "language_info": {
      "codemirror_mode": {
        "name": "ipython",
        "version": 3
      },
      "file_extension": ".py",
      "mimetype": "text/x-python",
      "name": "python",
      "nbconvert_exporter": "python",
      "pygments_lexer": "ipython3",
      "version": "3.10.4"
    }
  },
  "nbformat": 4,
  "nbformat_minor": 0
}
